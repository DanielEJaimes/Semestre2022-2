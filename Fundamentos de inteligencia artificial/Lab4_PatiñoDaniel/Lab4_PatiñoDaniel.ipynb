{
  "nbformat": 4,
  "nbformat_minor": 0,
  "metadata": {
    "colab": {
      "provenance": [],
      "collapsed_sections": []
    },
    "kernelspec": {
      "name": "python3",
      "display_name": "Python 3"
    },
    "language_info": {
      "name": "python"
    }
  },
  "cells": [
    {
      "cell_type": "code",
      "execution_count": null,
      "metadata": {
        "colab": {
          "base_uri": "https://localhost:8080/"
        },
        "id": "dd9s0bdrvQ_Y",
        "outputId": "ceb16472-feae-4c1c-ab28-9455638eaf56"
      },
      "outputs": [
        {
          "output_type": "stream",
          "name": "stdout",
          "text": [
            "Looking in indexes: https://pypi.org/simple, https://us-python.pkg.dev/colab-wheels/public/simple/\n",
            "Requirement already satisfied: wfdb in /usr/local/lib/python3.7/dist-packages (4.0.0)\n",
            "Requirement already satisfied: requests<3.0.0,>=2.8.1 in /usr/local/lib/python3.7/dist-packages (from wfdb) (2.23.0)\n",
            "Requirement already satisfied: matplotlib<4.0.0,>=3.2.2 in /usr/local/lib/python3.7/dist-packages (from wfdb) (3.2.2)\n",
            "Requirement already satisfied: pandas<2.0.0,>=1.0.0 in /usr/local/lib/python3.7/dist-packages (from wfdb) (1.3.5)\n",
            "Requirement already satisfied: scipy<2.0.0,>=1.0.0 in /usr/local/lib/python3.7/dist-packages (from wfdb) (1.7.3)\n",
            "Requirement already satisfied: numpy<2.0.0,>=1.10.1 in /usr/local/lib/python3.7/dist-packages (from wfdb) (1.21.6)\n",
            "Requirement already satisfied: SoundFile<0.12.0,>=0.10.0 in /usr/local/lib/python3.7/dist-packages (from wfdb) (0.11.0)\n",
            "Requirement already satisfied: python-dateutil>=2.1 in /usr/local/lib/python3.7/dist-packages (from matplotlib<4.0.0,>=3.2.2->wfdb) (2.8.2)\n",
            "Requirement already satisfied: kiwisolver>=1.0.1 in /usr/local/lib/python3.7/dist-packages (from matplotlib<4.0.0,>=3.2.2->wfdb) (1.4.4)\n",
            "Requirement already satisfied: pyparsing!=2.0.4,!=2.1.2,!=2.1.6,>=2.0.1 in /usr/local/lib/python3.7/dist-packages (from matplotlib<4.0.0,>=3.2.2->wfdb) (3.0.9)\n",
            "Requirement already satisfied: cycler>=0.10 in /usr/local/lib/python3.7/dist-packages (from matplotlib<4.0.0,>=3.2.2->wfdb) (0.11.0)\n",
            "Requirement already satisfied: typing-extensions in /usr/local/lib/python3.7/dist-packages (from kiwisolver>=1.0.1->matplotlib<4.0.0,>=3.2.2->wfdb) (4.1.1)\n",
            "Requirement already satisfied: pytz>=2017.3 in /usr/local/lib/python3.7/dist-packages (from pandas<2.0.0,>=1.0.0->wfdb) (2022.4)\n",
            "Requirement already satisfied: six>=1.5 in /usr/local/lib/python3.7/dist-packages (from python-dateutil>=2.1->matplotlib<4.0.0,>=3.2.2->wfdb) (1.15.0)\n",
            "Requirement already satisfied: chardet<4,>=3.0.2 in /usr/local/lib/python3.7/dist-packages (from requests<3.0.0,>=2.8.1->wfdb) (3.0.4)\n",
            "Requirement already satisfied: certifi>=2017.4.17 in /usr/local/lib/python3.7/dist-packages (from requests<3.0.0,>=2.8.1->wfdb) (2022.9.24)\n",
            "Requirement already satisfied: urllib3!=1.25.0,!=1.25.1,<1.26,>=1.21.1 in /usr/local/lib/python3.7/dist-packages (from requests<3.0.0,>=2.8.1->wfdb) (1.24.3)\n",
            "Requirement already satisfied: idna<3,>=2.5 in /usr/local/lib/python3.7/dist-packages (from requests<3.0.0,>=2.8.1->wfdb) (2.10)\n",
            "Requirement already satisfied: cffi>=1.0 in /usr/local/lib/python3.7/dist-packages (from SoundFile<0.12.0,>=0.10.0->wfdb) (1.15.1)\n",
            "Requirement already satisfied: pycparser in /usr/local/lib/python3.7/dist-packages (from cffi>=1.0->SoundFile<0.12.0,>=0.10.0->wfdb) (2.21)\n"
          ]
        }
      ],
      "source": [
        "pip install wfdb"
      ]
    },
    {
      "cell_type": "markdown",
      "source": [
        "INSTALACIÓN DE wfdb"
      ],
      "metadata": {
        "id": "ko62DTiYv3Ic"
      }
    },
    {
      "cell_type": "code",
      "source": [
        "import wfdb\n",
        "import numpy as np"
      ],
      "metadata": {
        "id": "f45h_Whyv7gE"
      },
      "execution_count": null,
      "outputs": []
    },
    {
      "cell_type": "code",
      "source": [
        "pepito=wfdb.rdrecord(\"database/103\")\n",
        "print(pepito.p_signal)\n",
        "wfdb.plot_wfdb(pepito)"
      ],
      "metadata": {
        "colab": {
          "base_uri": "https://localhost:8080/",
          "height": 417
        },
        "id": "PJX8UBKVwBg8",
        "outputId": "8619bfa7-89ce-40b0-a009-86ff1285e96b"
      },
      "execution_count": null,
      "outputs": [
        {
          "output_type": "stream",
          "name": "stdout",
          "text": [
            "[[-0.375  0.05 ]\n",
            " [-0.375  0.05 ]\n",
            " [-0.375  0.05 ]\n",
            " ...\n",
            " [-0.235  0.05 ]\n",
            " [-0.245  0.055]\n",
            " [ 0.     0.   ]]\n"
          ]
        },
        {
          "output_type": "display_data",
          "data": {
            "text/plain": [
              "<Figure size 432x288 with 2 Axes>"
            ],
            "image/png": "[encoded data removed]"
          },
          "metadata": {
            "needs_background": "light"
          }
        }
      ]
    },
    {
      "cell_type": "markdown",
      "source": [
        "Acceder a cada registro y mostrar los resultados"
      ],
      "metadata": {
        "id": "6-zTtuj30DXx"
      }
    },
    {
      "cell_type": "code",
      "source": [
        "signals = pepito.p_signal\n",
        "#print(signals)\n",
        "len(signals)\n",
        "anotaciones = wfdb.rdann('database/103','atr').sample\n",
        "print(anotaciones)\n",
        "len(anotaciones)\n",
        "print(signals[21])"
      ],
      "metadata": {
        "colab": {
          "base_uri": "https://localhost:8080/",
          "height": 235
        },
        "id": "pvrIAMZr08ez",
        "outputId": "2d78d3a1-853c-451f-bea8-8f253b516325"
      },
      "execution_count": null,
      "outputs": [
        {
          "output_type": "error",
          "ename": "NameError",
          "evalue": "ignored",
          "traceback": [
            "\u001b[0;31m---------------------------------------------------------------------------\u001b[0m",
            "\u001b[0;31mNameError\u001b[0m                                 Traceback (most recent call last)",
            "\u001b[0;32m<ipython-input-1-3565f232af2c>\u001b[0m in \u001b[0;36m<module>\u001b[0;34m\u001b[0m\n\u001b[0;32m----> 1\u001b[0;31m \u001b[0msignals\u001b[0m \u001b[0;34m=\u001b[0m \u001b[0mpepito\u001b[0m\u001b[0;34m.\u001b[0m\u001b[0mp_signal\u001b[0m\u001b[0;34m\u001b[0m\u001b[0;34m\u001b[0m\u001b[0m\n\u001b[0m\u001b[1;32m      2\u001b[0m \u001b[0;31m#print(signals)\u001b[0m\u001b[0;34m\u001b[0m\u001b[0;34m\u001b[0m\u001b[0;34m\u001b[0m\u001b[0m\n\u001b[1;32m      3\u001b[0m \u001b[0mlen\u001b[0m\u001b[0;34m(\u001b[0m\u001b[0msignals\u001b[0m\u001b[0;34m)\u001b[0m\u001b[0;34m\u001b[0m\u001b[0;34m\u001b[0m\u001b[0m\n\u001b[1;32m      4\u001b[0m \u001b[0manotaciones\u001b[0m \u001b[0;34m=\u001b[0m \u001b[0mwfdb\u001b[0m\u001b[0;34m.\u001b[0m\u001b[0mrdann\u001b[0m\u001b[0;34m(\u001b[0m\u001b[0;34m'database/103'\u001b[0m\u001b[0;34m,\u001b[0m\u001b[0;34m'atr'\u001b[0m\u001b[0;34m)\u001b[0m\u001b[0;34m.\u001b[0m\u001b[0msample\u001b[0m\u001b[0;34m\u001b[0m\u001b[0;34m\u001b[0m\u001b[0m\n\u001b[1;32m      5\u001b[0m \u001b[0mprint\u001b[0m\u001b[0;34m(\u001b[0m\u001b[0manotaciones\u001b[0m\u001b[0;34m)\u001b[0m\u001b[0;34m\u001b[0m\u001b[0;34m\u001b[0m\u001b[0m\n",
            "\u001b[0;31mNameError\u001b[0m: name 'pepito' is not defined"
          ]
        }
      ]
    },
    {
      "cell_type": "code",
      "source": [
        "signal1 = signals[:,0]\n",
        "Vobser = signal1[anotaciones[1]-70:anotaciones[1]+70]\n",
        "print(Vobser)\n",
        "#nmin = 50ms"
      ],
      "metadata": {
        "colab": {
          "base_uri": "https://localhost:8080/"
        },
        "id": "xMPgJYEP54oy",
        "outputId": "31529237-14a1-4d4e-f758-a1969423e5fa"
      },
      "execution_count": null,
      "outputs": [
        {
          "output_type": "stream",
          "name": "stdout",
          "text": [
            "[-0.235 -0.245 -0.24  -0.235 -0.215 -0.215 -0.215 -0.23  -0.22  -0.21\n",
            " -0.205 -0.215 -0.215 -0.245 -0.255 -0.25  -0.26  -0.27  -0.27  -0.27\n",
            " -0.255 -0.25  -0.255 -0.26  -0.295 -0.315 -0.32  -0.325 -0.33  -0.34\n",
            " -0.355 -0.38  -0.385 -0.38  -0.38  -0.395 -0.41  -0.405 -0.41  -0.405\n",
            " -0.4   -0.39  -0.405 -0.42  -0.41  -0.4   -0.4   -0.395 -0.405 -0.41\n",
            " -0.405 -0.4   -0.405 -0.405 -0.42  -0.445 -0.475 -0.54  -0.58  -0.59\n",
            " -0.55  -0.485 -0.39  -0.21   0.09   0.47   0.85   1.19   1.51   1.75\n",
            "  1.85   1.8    1.585  1.14   0.62   0.13  -0.235 -0.44  -0.52  -0.525\n",
            " -0.485 -0.405 -0.33  -0.295 -0.32  -0.36  -0.375 -0.375 -0.38  -0.38\n",
            " -0.395 -0.42  -0.43  -0.435 -0.43  -0.435 -0.45  -0.465 -0.46  -0.45\n",
            " -0.445 -0.46  -0.465 -0.485 -0.47  -0.455 -0.465 -0.46  -0.47  -0.475\n",
            " -0.465 -0.475 -0.475 -0.47  -0.465 -0.485 -0.47  -0.46  -0.455 -0.44\n",
            " -0.46  -0.47  -0.45  -0.43  -0.435 -0.435 -0.435 -0.44  -0.425 -0.41\n",
            " -0.395 -0.39  -0.4   -0.4   -0.39  -0.37  -0.345 -0.34  -0.34  -0.345]\n"
          ]
        }
      ]
    }
  ]
}